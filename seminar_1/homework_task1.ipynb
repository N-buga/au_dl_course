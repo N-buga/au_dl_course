{
 "cells": [
  {
   "cell_type": "code",
   "execution_count": 1,
   "metadata": {},
   "outputs": [],
   "source": [
    "import tensorflow as tf\n",
    "import numpy as np\n",
    "import math"
   ]
  },
  {
   "cell_type": "markdown",
   "metadata": {},
   "source": [
    "Hint: Use dtype=tf.float64 if you want to have same precision as numpy for testing<br>\n",
    "Hint: You migth wanna use tf.InterativeSession for convenience"
   ]
  },
  {
   "cell_type": "markdown",
   "metadata": {},
   "source": [
    "1a: Create two random 0-d tensors x and y of any distribution. <br>\n",
    "Create a TensorFlow object that returns x + y if x > y, and x - y otherwise. <br>\n",
    "Hint: look up tf.cond() <br>\n",
    "I do the first problem for you <br>"
   ]
  },
  {
   "cell_type": "code",
   "execution_count": 2,
   "metadata": {},
   "outputs": [],
   "source": [
    "def task_1a_np(x, y):\n",
    "    return np.where(x > y, x + y, x - y)"
   ]
  },
  {
   "cell_type": "code",
   "execution_count": 3,
   "metadata": {},
   "outputs": [],
   "source": [
    "X = tf.placeholder(tf.float64)\n",
    "Y = tf.placeholder(tf.float64)\n",
    "out = tf.cond(tf.greater(X, Y), lambda: tf.add(X, Y), lambda: tf.subtract(X, Y))"
   ]
  },
  {
   "cell_type": "code",
   "execution_count": 4,
   "metadata": {},
   "outputs": [
    {
     "name": "stdout",
     "output_type": "stream",
     "text": [
      "Success\n"
     ]
    }
   ],
   "source": [
    "with tf.Session() as sess:\n",
    "    for xx, yy in np.random.uniform(size=(50, 2)):\n",
    "        actual = sess.run(out, feed_dict={X:xx, Y:yy})\n",
    "        expected = task_1a_np(xx, yy)\n",
    "        if actual != expected:\n",
    "            print('Fail')\n",
    "            # something something\n",
    "    else:\n",
    "        print('Success')"
   ]
  },
  {
   "cell_type": "markdown",
   "metadata": {},
   "source": [
    "1b: Create two 0-d tensors x and y randomly selected from the range [-1, 1).<br>\n",
    "Return x + y if x < y, x - y if x > y, 0 otherwise.<br>\n",
    "Hint: Look up tf.case().<br>"
   ]
  },
  {
   "cell_type": "code",
   "execution_count": 5,
   "metadata": {},
   "outputs": [],
   "source": [
    "def task_1b_np(x, y):\n",
    "    return np.select(condlist=[x < y, x > y],\n",
    "                     choicelist=[x + y, x - y],\n",
    "                     default=0)"
   ]
  },
  {
   "cell_type": "code",
   "execution_count": 6,
   "metadata": {},
   "outputs": [
    {
     "name": "stdout",
     "output_type": "stream",
     "text": [
      "WARNING:tensorflow:case: An unordered dictionary of predicate/fn pairs was provided, but exclusive=False. The order of conditional tests is deterministic but not guaranteed.\n",
      "Success\n"
     ]
    }
   ],
   "source": [
    "X = tf.placeholder(tf.float64)\n",
    "Y = tf.placeholder(tf.float64)\n",
    "out = tf.case({tf.greater(X, Y): lambda: tf.subtract(X, Y), tf.greater(Y, X): lambda: tf.add(X, Y)}, \n",
    "              default=lambda: tf.constant(0, dtype=tf.float64, name=\"default\"))\n",
    "with tf.Session() as sess:\n",
    "    for xx, yy in np.random.uniform(size=(50, 2), low=-1, high=1):\n",
    "        actual = sess.run(out, feed_dict={X: xx, Y: yy})\n",
    "        expected = task_1b_np(xx, yy)\n",
    "        if actual != expected:\n",
    "            print('Fail')\n",
    "    else:\n",
    "        print('Success')"
   ]
  },
  {
   "cell_type": "markdown",
   "metadata": {},
   "source": [
    "1c: Create the tensor x of the value [[0, -2, -1], [0, 1, 2]] <br>\n",
    "and y as a tensor of zeros with the same shape as x. <br>\n",
    "Return a boolean tensor that yields Trues if x equals y element-wise. <br>\n",
    "Hint: Look up tf.equal(). <br>"
   ]
  },
  {
   "cell_type": "code",
   "execution_count": 8,
   "metadata": {},
   "outputs": [
    {
     "data": {
      "text/plain": [
       "array([[ True, False, False],\n",
       "       [ True, False, False]], dtype=bool)"
      ]
     },
     "execution_count": 8,
     "metadata": {},
     "output_type": "execute_result"
    }
   ],
   "source": [
    "def task_1c_np():\n",
    "    x = np.array([[0, -2, -1], [0, 1, 2]])\n",
    "    y = np.zeros_like(x)\n",
    "    return x == y\n",
    "task_1c_np()"
   ]
  },
  {
   "cell_type": "code",
   "execution_count": 12,
   "metadata": {},
   "outputs": [
    {
     "name": "stdout",
     "output_type": "stream",
     "text": [
      "Success\n"
     ]
    }
   ],
   "source": [
    "X = tf.constant([[0, -2, -1], [0, 1, 2]], dtype=tf.float64)\n",
    "Y = tf.zeros_like(X)\n",
    "out = tf.equal(X, Y)\n",
    "with tf.Session() as sess:\n",
    "    actual = sess.run(out)\n",
    "    expected = task_1c_np()\n",
    "    if (actual == expected).all():\n",
    "        print('Success')\n",
    "    else:\n",
    "        print('Fail')"
   ]
  },
  {
   "cell_type": "markdown",
   "metadata": {},
   "source": [
    "1d:<br>\n",
    "Get the indices of elements in x whose values are greater than 30.<br>\n",
    "Hint: Use tf.where().<br>\n",
    "Then extract elements whose values are greater than 30.<br>\n",
    "Hint: Use tf.gather().<br>"
   ]
  },
  {
   "cell_type": "code",
   "execution_count": 16,
   "metadata": {},
   "outputs": [],
   "source": [
    "def task_1d_np(x):\n",
    "    return x[x > 30].reshape(-1, 1)"
   ]
  },
  {
   "cell_type": "code",
   "execution_count": 38,
   "metadata": {},
   "outputs": [
    {
     "name": "stdout",
     "output_type": "stream",
     "text": [
      "Success\n"
     ]
    }
   ],
   "source": [
    "X = tf.placeholder(tf.float64)\n",
    "indices = tf.where(X > 30)\n",
    "out = tf.gather(X, indices)\n",
    "with tf.Session() as sess:\n",
    "    xx = np.random.uniform(size=(50,), low=0, high=100)\n",
    "    actual = sess.run(out, feed_dict={X: xx})\n",
    "    expected = task_1d_np(xx)\n",
    "    if not ((actual == expected).all()):\n",
    "        print('Fail')\n",
    "    else:\n",
    "        print('Success')"
   ]
  },
  {
   "cell_type": "markdown",
   "metadata": {},
   "source": [
    "1e: Create a diagnoal 2-d tensor of size 6 x 6 with the diagonal values of 1,<br>\n",
    "2, ..., 6<br>\n",
    "Hint: Use tf.range() and tf.diag().<br>"
   ]
  },
  {
   "cell_type": "code",
   "execution_count": 39,
   "metadata": {},
   "outputs": [],
   "source": [
    "def task_1e_np():\n",
    "    return np.diag(np.arange(1, 7))"
   ]
  },
  {
   "cell_type": "code",
   "execution_count": 40,
   "metadata": {},
   "outputs": [
    {
     "name": "stdout",
     "output_type": "stream",
     "text": [
      "Success\n"
     ]
    }
   ],
   "source": [
    "tensor = tf.diag(tf.range(1, 7))\n",
    "with tf.Session() as sess:\n",
    "    result = sess.run(tensor)\n",
    "    expected = task_1e_np()\n",
    "    if (expected == result).all():\n",
    "        print('Success')\n",
    "    else:\n",
    "        print('Fail')"
   ]
  },
  {
   "cell_type": "markdown",
   "metadata": {},
   "source": [
    "1f: Create a random 2-d tensor of size 10 x 10 from any distribution.<br>\n",
    "Calculate its determinant.<br>\n",
    "Hint: Look at tf.matrix_determinant().<br>"
   ]
  },
  {
   "cell_type": "code",
   "execution_count": 2,
   "metadata": {},
   "outputs": [],
   "source": [
    "def task_1f_np(x):\n",
    "    return np.linalg.det(x)"
   ]
  },
  {
   "cell_type": "code",
   "execution_count": 5,
   "metadata": {},
   "outputs": [
    {
     "name": "stdout",
     "output_type": "stream",
     "text": [
      "Success\n"
     ]
    }
   ],
   "source": [
    "X = tf.placeholder(dtype=tf.float64)\n",
    "out = tf.matrix_determinant(X)\n",
    "with tf.Session() as sess:\n",
    "    matrix = np.random.uniform(size=(10, 10))\n",
    "    result = sess.run(out, {X: matrix})\n",
    "    expected = task_1f_np(matrix)\n",
    "    if expected == result:\n",
    "        print('Success')\n",
    "    else:\n",
    "        print('Fail')"
   ]
  },
  {
   "cell_type": "markdown",
   "metadata": {},
   "source": [
    "1g: Create tensor x with value [5, 2, 3, 5, 10, 6, 2, 3, 4, 2, 1, 1, 0, 9].<br>\n",
    "Return the unique elements in x<br>\n",
    "Hint: use tf.unique(). Keep in mind that tf.unique() returns a tuple.<br>"
   ]
  },
  {
   "cell_type": "code",
   "execution_count": 9,
   "metadata": {},
   "outputs": [],
   "source": [
    "def task_1g_np():\n",
    "    x = [5, 2, 3, 5, 10, 6, 2, 3, 4, 2, 1, 1, 0, 9]\n",
    "    _, idx = np.unique(x, return_index=True)\n",
    "    return np.take(x, sorted(idx))"
   ]
  },
  {
   "cell_type": "code",
   "execution_count": 10,
   "metadata": {},
   "outputs": [
    {
     "name": "stdout",
     "output_type": "stream",
     "text": [
      "Success\n"
     ]
    }
   ],
   "source": [
    "X = tf.constant([5, 2, 3, 5, 10, 6, 2, 3, 4, 2, 1, 1, 0, 9], dtype=tf.float64)\n",
    "out, _ = tf.unique(X)\n",
    "with tf.Session() as sess:\n",
    "    result = sess.run(out)\n",
    "    expected = task_1g_np()\n",
    "    if (result == expected).all():\n",
    "        print('Success')\n",
    "    else:\n",
    "        print('Fail')"
   ]
  },
  {
   "cell_type": "markdown",
   "metadata": {},
   "source": [
    "1h: Create two tensors x and y of shape 300 from any normal distribution,<br>\n",
    "as long as they are from the same distribution.<br>\n",
    "Use tf.cond() to return:<br>\n",
    "- The mean squared error of (x - y) if the average of all elements in (x - y)<br>\n",
    "  is negative, or<br>\n",
    "- The sum of absolute value of all elements in the tensor (x - y) otherwise.<br>\n",
    "Hint: see the Huber loss function in the lecture slides 3.<br>"
   ]
  },
  {
   "cell_type": "code",
   "execution_count": 11,
   "metadata": {},
   "outputs": [],
   "source": [
    "def task_1h_np(x, y):\n",
    "    average = np.mean(x - y)\n",
    "    mse = np.mean((x - y) ** 2)\n",
    "    asum = np.sum(np.abs(x - y))\n",
    "    return mse if average < 0 else asum"
   ]
  },
  {
   "cell_type": "code",
   "execution_count": 23,
   "metadata": {},
   "outputs": [
    {
     "name": "stdout",
     "output_type": "stream",
     "text": [
      "Success\n"
     ]
    }
   ],
   "source": [
    "X = tf.placeholder(tf.float64)\n",
    "Y = tf.placeholder(tf.float64)\n",
    "diff = X - Y\n",
    "average = tf.reduce_mean(diff, 0)\n",
    "square = diff ** 2\n",
    "mse = tf.reduce_mean(square, 0)\n",
    "abs_diff = tf.abs(diff)\n",
    "asum = tf.reduce_sum(abs_diff)\n",
    "out = tf.cond(average < 0, lambda: mse, lambda: asum)\n",
    "with tf.Session() as sess:\n",
    "    xx = np.random.normal(size=(300,))\n",
    "    yy = np.random.normal(size=(300,))\n",
    "    expected = task_1h_np(xx, yy)\n",
    "    actual = sess.run(out, {X: xx, Y: yy})\n",
    "    if (expected - actual) < 1e-9:\n",
    "        print('Success')\n",
    "    else:\n",
    "        print('Fail')"
   ]
  },
  {
   "cell_type": "code",
   "execution_count": null,
   "metadata": {},
   "outputs": [],
   "source": []
  },
  {
   "cell_type": "code",
   "execution_count": null,
   "metadata": {},
   "outputs": [],
   "source": []
  }
 ],
 "metadata": {
  "kernelspec": {
   "display_name": "tensorflow",
   "language": "python",
   "name": "tensorflow"
  },
  "language_info": {
   "codemirror_mode": {
    "name": "ipython",
    "version": 3
   },
   "file_extension": ".py",
   "mimetype": "text/x-python",
   "name": "python",
   "nbconvert_exporter": "python",
   "pygments_lexer": "ipython3",
   "version": "3.6.1"
  }
 },
 "nbformat": 4,
 "nbformat_minor": 2
}
