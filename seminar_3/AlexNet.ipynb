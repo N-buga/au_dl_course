{
 "cells": [
  {
   "cell_type": "code",
   "execution_count": 6,
   "metadata": {
    "collapsed": true
   },
   "outputs": [],
   "source": [
    "%matplotlib inline\n",
    "import matplotlib.pyplot as plt\n",
    "import tensorflow as tf\n",
    "import numpy as np\n",
    "from sklearn.metrics import confusion_matrix\n",
    "import time\n",
    "from datetime import timedelta\n",
    "import math\n",
    "import os"
   ]
  },
  {
   "cell_type": "markdown",
   "metadata": {},
   "source": [
    "## Load Data"
   ]
  },
  {
   "cell_type": "code",
   "execution_count": 7,
   "metadata": {
    "collapsed": true
   },
   "outputs": [],
   "source": [
    "import cifar10"
   ]
  },
  {
   "cell_type": "markdown",
   "metadata": {},
   "source": [
    "Set the path for storing the data-set on your computer."
   ]
  },
  {
   "cell_type": "markdown",
   "metadata": {},
   "source": [
    "The CIFAR-10 data-set is about 163 MB and will be downloaded automatically if it is not located in the given path."
   ]
  },
  {
   "cell_type": "code",
   "execution_count": 8,
   "metadata": {
    "scrolled": true
   },
   "outputs": [
    {
     "name": "stdout",
     "output_type": "stream",
     "text": [
      "Data has apparently already been downloaded and unpacked.\n"
     ]
    }
   ],
   "source": [
    "cifar10.maybe_download_and_extract()"
   ]
  },
  {
   "cell_type": "markdown",
   "metadata": {},
   "source": [
    "Load the class-names."
   ]
  },
  {
   "cell_type": "code",
   "execution_count": 9,
   "metadata": {},
   "outputs": [
    {
     "name": "stdout",
     "output_type": "stream",
     "text": [
      "Loading data: data/CIFAR-10/cifar-10-batches-py/batches.meta\n"
     ]
    },
    {
     "data": {
      "text/plain": [
       "['airplane',\n",
       " 'automobile',\n",
       " 'bird',\n",
       " 'cat',\n",
       " 'deer',\n",
       " 'dog',\n",
       " 'frog',\n",
       " 'horse',\n",
       " 'ship',\n",
       " 'truck']"
      ]
     },
     "execution_count": 9,
     "metadata": {},
     "output_type": "execute_result"
    }
   ],
   "source": [
    "class_names = cifar10.load_class_names()\n",
    "class_names"
   ]
  },
  {
   "cell_type": "markdown",
   "metadata": {},
   "source": [
    "Load the training-set. This returns the images, the class-numbers as integers, and the class-numbers as One-Hot encoded arrays called labels."
   ]
  },
  {
   "cell_type": "code",
   "execution_count": 10,
   "metadata": {},
   "outputs": [
    {
     "name": "stdout",
     "output_type": "stream",
     "text": [
      "Loading data: data/CIFAR-10/cifar-10-batches-py/data_batch_1\n",
      "Loading data: data/CIFAR-10/cifar-10-batches-py/data_batch_2\n",
      "Loading data: data/CIFAR-10/cifar-10-batches-py/data_batch_3\n",
      "Loading data: data/CIFAR-10/cifar-10-batches-py/data_batch_4\n",
      "Loading data: data/CIFAR-10/cifar-10-batches-py/data_batch_5\n"
     ]
    }
   ],
   "source": [
    "images_train, cls_train, labels_train = cifar10.load_training_data()"
   ]
  },
  {
   "cell_type": "markdown",
   "metadata": {},
   "source": [
    "Load the test-set."
   ]
  },
  {
   "cell_type": "code",
   "execution_count": 11,
   "metadata": {},
   "outputs": [
    {
     "name": "stdout",
     "output_type": "stream",
     "text": [
      "Loading data: data/CIFAR-10/cifar-10-batches-py/test_batch\n"
     ]
    }
   ],
   "source": [
    "images_test, cls_test, labels_test = cifar10.load_test_data()"
   ]
  },
  {
   "cell_type": "markdown",
   "metadata": {},
   "source": [
    "The CIFAR-10 data-set has now been loaded and consists of 60,000 images and associated labels (i.e. classifications of the images). The data-set is split into 2 mutually exclusive sub-sets, the training-set and the test-set."
   ]
  },
  {
   "cell_type": "code",
   "execution_count": 12,
   "metadata": {
    "scrolled": true
   },
   "outputs": [
    {
     "name": "stdout",
     "output_type": "stream",
     "text": [
      "Size of:\n",
      "- Training-set:\t\t50000\n",
      "- Test-set:\t\t10000\n"
     ]
    }
   ],
   "source": [
    "print(\"Size of:\")\n",
    "print(\"- Training-set:\\t\\t{}\".format(len(images_train)))\n",
    "print(\"- Test-set:\\t\\t{}\".format(len(images_test)))"
   ]
  },
  {
   "cell_type": "markdown",
   "metadata": {},
   "source": [
    "The data dimensions are used in several places in the source-code below. They have already been defined in the cifar10 module, so we just need to import them."
   ]
  },
  {
   "cell_type": "code",
   "execution_count": 13,
   "metadata": {
    "collapsed": true
   },
   "outputs": [],
   "source": [
    "from cifar10 import img_size, num_channels, num_classes"
   ]
  },
  {
   "cell_type": "markdown",
   "metadata": {},
   "source": [
    "The images are 32 x 32 pixels, but we will crop the images to 24 x 24 pixels."
   ]
  },
  {
   "cell_type": "code",
   "execution_count": 14,
   "metadata": {
    "collapsed": true
   },
   "outputs": [],
   "source": [
    "img_size_cropped = 24"
   ]
  },
  {
   "cell_type": "code",
   "execution_count": 15,
   "metadata": {
    "collapsed": true
   },
   "outputs": [],
   "source": [
    "def pre_process_image(image, training):\n",
    "    # This function takes a single image as input,\n",
    "    # and a boolean whether to build the training or testing graph.\n",
    "    \n",
    "    if training:\n",
    "        # For training, add the following to the TensorFlow graph.\n",
    "\n",
    "        # Randomly crop the input image.\n",
    "#        image = tf.random_crop(image, size=[img_size_cropped, img_size_cropped, num_channels])\n",
    "\n",
    "        # Randomly flip the image horizontally.\n",
    "        image = tf.image.random_flip_left_right(image)\n",
    "        \n",
    "        # Randomly adjust hue, contrast and saturation.\n",
    "        image = tf.image.random_hue(image, max_delta=0.05)\n",
    "        image = tf.image.random_contrast(image, lower=0.3, upper=1.0)\n",
    "        image = tf.image.random_brightness(image, max_delta=0.2)\n",
    "        image = tf.image.random_saturation(image, lower=0.0, upper=2.0)\n",
    "\n",
    "        # Some of these functions may overflow and result in pixel\n",
    "        # values beyond the [0, 1] range. It is unclear from the\n",
    "        # documentation of TensorFlow whether this is\n",
    "        # intended. A simple solution is to limit the range.\n",
    "\n",
    "        # Limit the image pixels between [0, 1] in case of overflow.\n",
    "        image = tf.minimum(image, 1.0)\n",
    "        image = tf.maximum(image, 0.0)\n",
    "    else:\n",
    "        # For training, add the following to the TensorFlow graph.\n",
    "\n",
    "        # Crop the input image around the centre so it is the same\n",
    "        # size as images that are randomly cropped during training.\n",
    "        image = tf.image.resize_image_with_crop_or_pad(image,\n",
    "                                                       target_height=img_size_cropped,\n",
    "                                                       target_width=img_size_cropped)\n",
    "\n",
    "    return image"
   ]
  },
  {
   "cell_type": "code",
   "execution_count": 16,
   "metadata": {
    "collapsed": true
   },
   "outputs": [],
   "source": [
    "def pre_process(images, training):\n",
    "    # Use TensorFlow to loop over all the input images and call\n",
    "    # the function above which takes a single image as input.\n",
    "    images = tf.map_fn(lambda image: pre_process_image(image, training), images)\n",
    "\n",
    "    return images"
   ]
  },
  {
   "cell_type": "markdown",
   "metadata": {},
   "source": [
    "## AlexNet"
   ]
  },
  {
   "cell_type": "code",
   "execution_count": 17,
   "metadata": {
    "collapsed": true
   },
   "outputs": [],
   "source": [
    "def weight_variable(shape, name):\n",
    "    initial = tf.truncated_normal(shape, stddev=0.1)\n",
    "    return tf.Variable(initial, name=name, trainable=True)"
   ]
  },
  {
   "cell_type": "code",
   "execution_count": 18,
   "metadata": {
    "collapsed": true
   },
   "outputs": [],
   "source": [
    "def conv2d(input_, out_channels, filter_height, filter_width, in_channels, strides):\n",
    "    W = weight_variable(shape=[filter_height, filter_width, in_channels, out_channels], name=\"weight\")\n",
    "    b = weight_variable(shape=[out_channels], name=\"bias\")\n",
    "    res = tf.nn.conv2d(input_, W, strides, padding='SAME')\n",
    "    relu = tf.nn.relu(tf.nn.bias_add(res, b))\n",
    "    return relu"
   ]
  },
  {
   "cell_type": "code",
   "execution_count": 19,
   "metadata": {
    "collapsed": true
   },
   "outputs": [],
   "source": [
    "def max_pool(input_, size, strides, name=None):\n",
    "    return tf.nn.max_pool(input_, ksize=size,\n",
    "                          strides=strides,\n",
    "                          padding='SAME', name=name)"
   ]
  },
  {
   "cell_type": "code",
   "execution_count": 20,
   "metadata": {
    "collapsed": true
   },
   "outputs": [],
   "source": [
    "def fc(input_, input_size, output_size, keep_prob, name=None):\n",
    "    fc_drop = tf.nn.dropout(input_, keep_prob, name=\"h_fc1_drop\")\n",
    "\n",
    "    W = weight_variable([input_size, output_size], \"weight\")\n",
    "    b = weight_variable([output_size], \"bias\")\n",
    "\n",
    "    return tf.nn.relu(tf.nn.bias_add(tf.matmul(fc_drop, W), b, name='y_conv'))"
   ]
  },
  {
   "cell_type": "code",
   "execution_count": 21,
   "metadata": {
    "collapsed": true
   },
   "outputs": [],
   "source": [
    "def flatten(input_, batch_size):\n",
    "    flatten = tf.reshape(input_, shape=[batch_size, -1])\n",
    "    return flatten"
   ]
  },
  {
   "cell_type": "code",
   "execution_count": 22,
   "metadata": {
    "collapsed": true
   },
   "outputs": [],
   "source": [
    "def lrn(x, radius, alpha, beta, name, bias=1.0):\n",
    "    return tf.nn.local_response_normalization(x, depth_radius = radius,\n",
    "                                            alpha = alpha, beta = beta,\n",
    "                                            bias = bias, name = name)"
   ]
  },
  {
   "cell_type": "code",
   "execution_count": 23,
   "metadata": {
    "collapsed": true
   },
   "outputs": [],
   "source": [
    "class AlexNet:\n",
    "    def __init__(self, class_count, save_dir, save_path, batch_size):\n",
    "        self.class_count = class_count\n",
    "        self.save_dir = save_dir\n",
    "        self.save_path = save_path\n",
    "        self.train_batch_size = batch_size\n",
    "        \n",
    "    def _create_placeholders(self):\n",
    "        with tf.name_scope(\"data\"):\n",
    "            self.ims = tf.placeholder(shape=[None, 32, 32, 3], dtype=tf.float32, name=\"x\")\n",
    "            self.y_true = tf.placeholder(shape=[None, self.class_count], dtype=tf.float32, name=\"y\")\n",
    "            self.global_step = tf.Variable(initial_value=0,\n",
    "                          name='global_step', trainable=False)\n",
    "        \n",
    "    def _create_layers(self):\n",
    "        #layer1: convolution 11x11 + RELU:\n",
    "        with tf.name_scope(\"layer1\"):\n",
    "            layer1_1_conv = conv2d(self.x, 48, 11, 11, 3, [1, 4, 4, 1])\n",
    "            layer1_2_conv = conv2d(self.x, 48, 11, 11, 3, [1, 4, 4, 1])\n",
    "            norm1_1 = lrn(layer1_1_conv, 2, 2e-05, 0.75, name = 'norm1')\n",
    "            norm1_2 = lrn(layer1_2_conv, 2, 2e-05, 0.75, name = 'norm1')\n",
    "            layer1_1_pooling = max_pool(layer1_1_conv, [1, 3, 3, 1], [1, 2, 2, 1])\n",
    "            layer1_2_pooling = max_pool(layer1_2_conv, [1, 3, 3, 1], [1, 2, 2, 1])\n",
    "        \n",
    "        with tf.name_scope(\"layer2\"):\n",
    "            layer2_1_conv = conv2d(layer1_1_pooling, 128, 5, 5, 48, [1, 1, 1, 1])\n",
    "            layer2_2_conv = conv2d(layer1_2_pooling, 128, 5, 5, 48, [1, 1, 1, 1])\n",
    "            norm1_1 = lrn(layer2_1_conv, 2, 2e-05, 0.75, name = 'norm1')\n",
    "            norm1_2 = lrn(layer2_2_conv, 2, 2e-05, 0.75, name = 'norm1')            \n",
    "            layer2_1_pooling = max_pool(layer2_1_conv, [1, 3, 3, 1], [1, 2, 2, 1])\n",
    "            layer2_2_pooling = max_pool(layer2_2_conv, [1, 3, 3, 1], [1, 2, 2, 1])\n",
    "        \n",
    "        with tf.name_scope(\"layer3\"):\n",
    "            layer3_input = tf.nn.relu(tf.add(layer2_1_pooling, layer2_2_pooling))\n",
    "            layer3_1_conv = conv2d(layer3_input, 192, 3, 3, 128, [1, 1, 1, 1])\n",
    "            layer3_2_conv = conv2d(layer3_input, 192, 3, 3, 128, [1, 1, 1, 1])\n",
    "            \n",
    "        with tf.name_scope(\"layer4\"):\n",
    "            layer4_1_conv = conv2d(layer3_1_conv, 192, 3, 3, 192, [1, 1, 1, 1])\n",
    "            layer4_2_conv = conv2d(layer3_2_conv, 192, 3, 3, 192, [1, 1, 1, 1])\n",
    "            \n",
    "        with tf.name_scope(\"layer5\"):\n",
    "            layer5_1_conv = conv2d(layer4_1_conv, 128, 3, 3, 192, [1, 1, 1, 1])\n",
    "            layer5_2_conv = conv2d(layer4_2_conv, 128, 3, 3, 192, [1, 1, 1, 1])\n",
    "            layer5_1_pooling = max_pool(layer5_1_conv, [1, 3, 3, 1], [1, 2, 2, 1])\n",
    "            layer5_2_pooling = max_pool(layer5_2_conv, [1, 3, 3, 1], [1, 2, 2, 1])\n",
    "        \n",
    "        with tf.name_scope(\"layer6\"):\n",
    "            layer6_1_flatten = flatten(layer5_1_pooling, self.train_batch_size)\n",
    "            layer6_2_flatten = flatten(layer5_2_pooling, self.train_batch_size)\n",
    "            layer6_1_fc = fc(layer6_1_flatten, 128, 1024, 0.5)\n",
    "            layer6_2_fc = fc(layer6_2_flatten, 128, 1024, 0.5)\n",
    "            \n",
    "        with tf.name_scope(\"layer7\"):\n",
    "            layer7_1_fc = fc(layer6_1_fc, 1024, 1024, 0.5)\n",
    "            layer7_2_fc = fc(layer6_2_fc, 1024, 1024, 0.5)\n",
    "            \n",
    "        with tf.name_scope(\"layer8\"):\n",
    "            w_out = weight_variable([1024, self.class_count], \"weight_out\")\n",
    "            b_out = weight_variable([self.class_count], \"bias_out\")\n",
    "            self.logits = tf.add(tf.matmul(tf.nn.relu(layer7_1_fc + layer7_2_fc), w_out), b_out)        \n",
    "    \n",
    "    def _create_loss(self):\n",
    "        with tf.name_scope(\"loss\"):\n",
    "            self.cross_entropy = tf.reduce_mean(\n",
    "                tf.nn.softmax_cross_entropy_with_logits(labels=self.y_true, logits=self.logits))   \n",
    "    \n",
    "    def _create_optimizer(self):\n",
    "        with tf.name_scope(\"optimizer\"):\n",
    "            self.train_step = tf.train.AdamOptimizer(1e-4).minimize(self.cross_entropy, global_step=self.global_step)\n",
    "            \n",
    "    def build_graph(self):\n",
    "        self._create_placeholders()\n",
    "        self.x = pre_process(self.ims, training=True)\n",
    "        self._create_layers()\n",
    "        self._create_loss()\n",
    "        self._create_optimizer()\n",
    "        self.saver = tf.train.Saver()\n",
    "    \n",
    "    def random_batch(self, images_train, labels_train):\n",
    "        # Number of images in the training-set.\n",
    "        num_images = len(images_train)\n",
    "\n",
    "        # Create a random index.\n",
    "        idx = np.random.choice(num_images,\n",
    "                               size=self.train_batch_size,\n",
    "                               replace=False)\n",
    "\n",
    "        # Use the random index to select random images and labels.\n",
    "        x_batch = images_train[idx, :, :, :]\n",
    "        y_batch = labels_train[idx, :]\n",
    "\n",
    "        return x_batch, y_batch\n",
    "    \n",
    "    def restore_checkpoints(self, session):\n",
    "#         try:\n",
    "#             print(\"Trying to restore last checkpoint ...\")\n",
    "\n",
    "#             # Use TensorFlow to find the latest checkpoint - if any.\n",
    "#             last_chk_path = tf.train.latest_checkpoint(checkpoint_dir=self.save_dir)\n",
    "\n",
    "#             # Try and load the data in the checkpoint.\n",
    "#             self.saver.restore(session, save_path=last_chk_path)\n",
    "\n",
    "#             # If we get to this point, the checkpoint was successfully loaded.\n",
    "#             print(\"Restored checkpoint from:\", last_chk_path)\n",
    "#         except:\n",
    "#             If the above failed for some reason, simply\n",
    "#             initialize all the variables for the TensorFlow graph.\n",
    "        print(\"Failed to restore checkpoint. Initializing variables instead.\")\n",
    "        session.run(tf.global_variables_initializer())    \n",
    "    \n",
    "    def train_model(self, images_train, labels_train, num_iterations):\n",
    "        gpu_options = tf.GPUOptions(per_process_gpu_memory_fraction=0.2)\n",
    "        y_pred = tf.nn.softmax(self.logits)\n",
    "        y_pred_cls = tf.argmax(y_pred, axis=1)\n",
    "        correct_prediction = tf.equal(y_pred_cls, tf.argmax(self.y_true, axis=1))\n",
    "        accuracy = tf.reduce_mean(tf.cast(correct_prediction, tf.float32))\n",
    "\n",
    "        with tf.Session(config=tf.ConfigProto(gpu_options=gpu_options)) as session:\n",
    "                \n",
    "            self.restore_checkpoints(session)\n",
    "\n",
    "            # Start-time used for printing time-usage below.        \n",
    "            start_time = time.time()\n",
    "        \n",
    "            for i in range(num_iterations):\n",
    "                # Get a batch of training examples.\n",
    "                # x_batch now holds a batch of images and\n",
    "                # y_true_batch are the true labels for those images.\n",
    "                x_batch, y_true_batch = self.random_batch(images_train, labels_train)\n",
    "\n",
    "                # Put the batch into a dict with the proper names\n",
    "                # for placeholder variables in the TensorFlow graph.\n",
    "                feed_dict_train = {self.x: x_batch,\n",
    "                                   self.y_true: y_true_batch}\n",
    "\n",
    "                # Run the optimizer using this batch of training data.\n",
    "                # TensorFlow assigns the variables in feed_dict_train\n",
    "                # to the placeholder variables and then runs the optimizer.\n",
    "                # We also want to retrieve the global_step counter.\n",
    "                i_global, _ = session.run([self.global_step, self.train_step],\n",
    "                                          feed_dict=feed_dict_train)\n",
    "\n",
    "                cross_entropy = session.run([self.cross_entropy], feed_dict=feed_dict_train)\n",
    "                print(i_global, cross_entropy)\n",
    "                # Print status to screen every 100 iterations (and last).\n",
    "                if (i_global % 100 == 0) or (i == num_iterations - 1):\n",
    "                    # Calculate the accuracy on the training-batch.\n",
    "                    batch_acc = session.run(accuracy,\n",
    "                                            feed_dict=feed_dict_train)\n",
    "\n",
    "                    # Print status.\n",
    "                    msg = \"Global Step: {0:>6}, Training Batch Accuracy: {1:>6.1%}\"\n",
    "                    print(msg.format(i_global, batch_acc))\n",
    "\n",
    "                # Save a checkpoint to disk every 1000 iterations (and last).\n",
    "#                 if (i_global % 100 == 0) or (i == num_iterations - 1):\n",
    "#                     # Save all variables of the TensorFlow graph to a\n",
    "#                     # checkpoint. Append the global_step counter\n",
    "#                     # to the filename so we save the last several checkpoints.\n",
    "#                     self.saver.save(session,\n",
    "#                                save_path=self.save_path,\n",
    "#                                global_step=self.global_step)\n",
    "\n",
    "#                     print(\"Saved checkpoint.\")\n",
    "\n",
    "            # Ending time.\n",
    "            end_time = time.time()\n",
    "\n",
    "            # Difference between start and end-times.\n",
    "            time_dif = end_time - start_time\n",
    "\n",
    "            # Print the time-usage.\n",
    "            print(\"Time usage: \" + str(timedelta(seconds=int(round(time_dif)))))"
   ]
  },
  {
   "cell_type": "code",
   "execution_count": 24,
   "metadata": {
    "collapsed": true
   },
   "outputs": [],
   "source": [
    "save_dir = 'checkpoints_alexNet/'\n",
    "if not os.path.exists(save_dir):\n",
    "    os.makedirs(save_dir)\n",
    "save_path = os.path.join(save_dir, 'cifar10_cnn')\n",
    "\n",
    "alexNet = AlexNet(len(class_names), save_dir, save_path, 30)\n",
    "alexNet.build_graph()"
   ]
  },
  {
   "cell_type": "code",
   "execution_count": null,
   "metadata": {},
   "outputs": [
    {
     "name": "stdout",
     "output_type": "stream",
     "text": [
      "Failed to restore checkpoint. Initializing variables instead.\n"
     ]
    }
   ],
   "source": [
    "alexNet.train_model(images_train, labels_train, 10000)"
   ]
  },
  {
   "cell_type": "code",
   "execution_count": null,
   "metadata": {
    "collapsed": true
   },
   "outputs": [],
   "source": []
  }
 ],
 "metadata": {
  "kernelspec": {
   "display_name": "Python 3",
   "language": "python",
   "name": "python3"
  },
  "language_info": {
   "codemirror_mode": {
    "name": "ipython",
    "version": 3
   },
   "file_extension": ".py",
   "mimetype": "text/x-python",
   "name": "python",
   "nbconvert_exporter": "python",
   "pygments_lexer": "ipython3",
   "version": "3.6.1"
  }
 },
 "nbformat": 4,
 "nbformat_minor": 2
}
