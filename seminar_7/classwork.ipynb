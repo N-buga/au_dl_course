{
 "cells": [
  {
   "cell_type": "markdown",
   "metadata": {},
   "source": [
    "### Sequence\tLabelling\tModel"
   ]
  },
  {
   "cell_type": "code",
   "execution_count": 1,
   "metadata": {
    "collapsed": true
   },
   "outputs": [],
   "source": [
    "from lazy import lazy\n",
    "import gzip\n",
    "import os\n",
    "import csv\n",
    "import numpy as np\n",
    "from itertools import islice"
   ]
  },
  {
   "cell_type": "code",
   "execution_count": 2,
   "metadata": {
    "collapsed": true
   },
   "outputs": [],
   "source": [
    "class OcrDataset:\n",
    "    \"\"\"\n",
    "    Dataset of handwritten words collected by Rob Kassel at the MIT Spoken\n",
    "    Language Systems Group. Each example contains the normalized letters of the\n",
    "    word, padded to the maximum word length. Only contains lower case letter,\n",
    "    capitalized letters were removed.\n",
    "    From: http://ai.stanford.edu/~btaskar/ocr/\n",
    "    \"\"\"\n",
    "    URL = 'http://ai.stanford.edu/~btaskar/ocr/letter.data.gz'\n",
    "    \n",
    "    def __init__(self, cache_dir):\n",
    "        path, _ = urllib.request.urlretrieve(type(self).URL, cache_dir)\n",
    "        lines = self._read(path)\n",
    "        data, target = self._parse(lines)\n",
    "        self.data, self.target = self._pad(data, target)    \n",
    "        \n",
    "    @staticmethod\n",
    "    def _read(filepath):\n",
    "        with gzip.open(filepath, 'rt') as file_:\n",
    "            reader = csv.reader(file_, delimiter='\\t')\n",
    "            lines = list(reader)\n",
    "            return lines\n",
    "\n",
    "    @staticmethod\n",
    "    def _parse(lines):\n",
    "        lines = sorted(lines, key=lambda x: int(x[0]))\n",
    "        data, target = [], []\n",
    "        next_ = None\n",
    "        for line in lines:\n",
    "            if not next_:\n",
    "                data.append([])\n",
    "                target.append([])\n",
    "            else:\n",
    "                assert next_ == int(line[0])\n",
    "            next_ = int(line[2]) if int(line[2]) > -1 else None\n",
    "            pixels = np.array([int(x) for x in line[6:134]])\n",
    "            pixels = pixels.reshape((16, 8))\n",
    "            data[-1].append(pixels)\n",
    "            target[-1].append(line[1])\n",
    "        return data, target\n",
    "    \n",
    "    @staticmethod\n",
    "    def _pad(data, target):\n",
    "        max_length = max(len(x) for x in target)\n",
    "        padding = np.zeros((16, 8))\n",
    "        data = [x + ([padding] * (max_length - len(x))) for x in data]\n",
    "        target = [x + ([''] * (max_length - len(x))) for x in target]\n",
    "        return np.array(data), np.array(target)"
   ]
  },
  {
   "cell_type": "code",
   "execution_count": 3,
   "metadata": {
    "collapsed": true
   },
   "outputs": [],
   "source": [
    "class SequenceLabellingModel:\n",
    "    \n",
    "    def __init__(self, params):\n",
    "        self.create_placeholders()\n",
    "        self.params = params\n",
    "        self.prediction\n",
    "        self.summary\n",
    "        self.cost\n",
    "        self.error\n",
    "        self.optimize\n",
    "        self.global_step = 0\n",
    "        self.sess = tf.Session()\n",
    "        self.sess.run(tf.global_variables_initializer())\n",
    "    \n",
    "    def create_placeholders(self):\n",
    "        with tf.name_scope(\"placeholders\"):\n",
    "            self.data = tf.placeholder(tf.float32, [None, params.length, params.image_size])\n",
    "            self.target = tf.placeholder(tf.float32, [None, params.length, params.num_classes])\n",
    "        \n",
    "    @lazy\n",
    "    def length(self):\n",
    "        with tf.name_scope(\"length\"):\n",
    "            used = tf.sign(tf.reduce_max(tf.abs(self.data), axis=2))\n",
    "            length = tf.reduce_sum(used, reduction_indices=1)\n",
    "            length = tf.cast(length, tf.int32)\n",
    "            return length\n",
    "    \n",
    "    @lazy\n",
    "    def prediction(self):\n",
    "        with tf.name_scope(\"prediction\"):\n",
    "            output, _ = tf.nn.dynamic_rnn(\n",
    "                tf.contrib.rnn.GRUCell(self.params.rnn_hidden),\n",
    "                self.data,\n",
    "                dtype=tf.float32,\n",
    "                sequence_length=self.length,\n",
    "            )\n",
    "            # Softmax layer.\n",
    "            max_length = int(self.target.get_shape()[1])\n",
    "            num_classes = int(self.target.get_shape()[2])\n",
    "            weight = tf.Variable(tf.truncated_normal(\n",
    "                [self.params.rnn_hidden, num_classes], stddev=0.01))\n",
    "            bias = tf.Variable(tf.constant(0.1, shape=[num_classes]))\n",
    "            # Flatten to apply same weights to all time steps.\n",
    "            output = tf.reshape(output, [-1, self.params.rnn_hidden])\n",
    "            prediction = tf.nn.softmax(tf.matmul(output, weight) + bias)\n",
    "            prediction = tf.reshape(prediction, [-1, max_length, num_classes])\n",
    "            return prediction\n",
    "\n",
    "    @lazy\n",
    "    def cost(self):\n",
    "        with tf.name_scope(\"cost\"):\n",
    "            # Compute cross entropy for each frame.\n",
    "            cross_entropy = self.target * tf.log(self.prediction)\n",
    "            cross_entropy = -tf.reduce_sum(cross_entropy, reduction_indices=2)\n",
    "            mask = tf.sign(tf.reduce_max(tf.abs(self.target), reduction_indices=2))\n",
    "            cross_entropy *= mask\n",
    "            # Average over actual sequence lengths.\n",
    "            cross_entropy = tf.reduce_sum(cross_entropy, reduction_indices=1)\n",
    "            cross_entropy /= tf.cast(self.length, tf.float32)\n",
    "            return tf.reduce_mean(cross_entropy)\n",
    "\n",
    "    @lazy\n",
    "    def summary(self):\n",
    "        with tf.name_scope(\"summaries\"):\n",
    "            tf.summary.scalar('loss', self.cost)\n",
    "            tf.summary.scalar('erroe', self.error)\n",
    "            return tf.summary.merge_all()\n",
    "            \n",
    "    @lazy    \n",
    "    def error(self):\n",
    "        with tf.name_scope(\"error\"):\n",
    "            mistakes = tf.not_equal(\n",
    "                tf.argmax(self.target, 2), tf.argmax(self.prediction, 2))\n",
    "            mistakes = tf.cast(mistakes, tf.float32)\n",
    "            mask = tf.sign(tf.reduce_max(tf.abs(self.target), reduction_indices=2))\n",
    "            mistakes *= mask\n",
    "            # Average over actual sequence lengths.\n",
    "            mistakes = tf.reduce_sum(mistakes, reduction_indices=1)\n",
    "            mistakes /= tf.cast(self.length, tf.float32)\n",
    "            return tf.reduce_mean(mistakes)\n",
    "    \n",
    "    @lazy\n",
    "    def optimize(self):\n",
    "        with tf.name_scope(\"optimize\"):\n",
    "            gradient = self.params.optimizer.compute_gradients(self.cost)\n",
    "            if self.params.gradient_clipping:\n",
    "                limit = self.params.gradient_clipping\n",
    "                gradient = [\n",
    "                    (tf.clip_by_value(g, -limit, limit), v)\n",
    "                    if g is not None else (None, v)\n",
    "                    for g, v in gradient]\n",
    "            optimize = self.params.optimizer.apply_gradients(gradient)\n",
    "            return optimize\n",
    "    \n",
    "    def train(self, batches):\n",
    "        saver = tf.train.Saver()\n",
    "        if os.path.isdir('./saved/'):\n",
    "            saver.restore(self.sess, tf.train.latest_checkpoint('./saved/'))\n",
    "        summary_writer = tf.summary.FileWriter('graphs/run{}'.format(self.global_step), self.sess.graph)\n",
    "        self.global_step += 1\n",
    "        for index, batch in enumerate(batches):\n",
    "            feed = {model.data: batch[0], model.target: batch[1]}\n",
    "            error, _, summary_str = self.sess.run([model.error, model.optimize, model.summary], feed)\n",
    "            print('{}: {:3.1f}%'.format(index + 1, 100 * error))\n",
    "            if index % 1 == 0:\n",
    "                summary_writer.add_summary(summary_str, index)\n",
    "        summary_writer.flush()\n",
    "        saver.save(self.sess, 'saved/my_test_model',global_step=index)\n",
    "    \n",
    "#     @lazy\n",
    "#     def predict_modified(self):\n",
    "#         data_mask = tf.cast(self.data, tf.bool)\n",
    "#         empty_mask = tf.reduce_any(data_mask, axis=2)\n",
    "#         bin_pred = tf.argmax(self.target, axis=2)\n",
    "#         return tf.casempty_mask * bin_pred\n",
    "# #         return tf.boolean_mask(empty_mask, bin_pred)\n",
    "        \n",
    "    def predict(self, data):\n",
    "        return self.sess.run([self.prediction], {self.data: data})\n",
    "        \n",
    "    def close(self):\n",
    "        tf.reset_default_graph()\n",
    "        self.session.close()"
   ]
  },
  {
   "cell_type": "code",
   "execution_count": 4,
   "metadata": {
    "collapsed": true
   },
   "outputs": [],
   "source": [
    "from attrdict import AttrDict\n",
    "import random\n",
    "import tensorflow as tf\n",
    "import urllib.request"
   ]
  },
  {
   "cell_type": "code",
   "execution_count": 5,
   "metadata": {},
   "outputs": [
    {
     "data": {
      "text/plain": [
       "[]"
      ]
     },
     "execution_count": 5,
     "metadata": {},
     "output_type": "execute_result"
    }
   ],
   "source": [
    "!! mkdir ocr_dataset"
   ]
  },
  {
   "cell_type": "code",
   "execution_count": 6,
   "metadata": {},
   "outputs": [
    {
     "data": {
      "text/plain": [
       "[]"
      ]
     },
     "execution_count": 6,
     "metadata": {},
     "output_type": "execute_result"
    }
   ],
   "source": [
    "!! rm -rf graphs/"
   ]
  },
  {
   "cell_type": "code",
   "execution_count": 7,
   "metadata": {},
   "outputs": [
    {
     "data": {
      "text/plain": [
       "[]"
      ]
     },
     "execution_count": 7,
     "metadata": {},
     "output_type": "execute_result"
    }
   ],
   "source": [
    "!! rm -rf saved/"
   ]
  },
  {
   "cell_type": "code",
   "execution_count": 8,
   "metadata": {
    "collapsed": true
   },
   "outputs": [],
   "source": [
    "params = AttrDict(\n",
    "    rnn_cell=tf.contrib.rnn.GRUCell,\n",
    "    rnn_hidden=300,\n",
    "    optimizer=tf.train.RMSPropOptimizer(0.002),\n",
    "    gradient_clipping=5,\n",
    "    batch_size=10,\n",
    "    epochs=20,\n",
    "    epoch_size=50,\n",
    ")\n",
    "\n",
    "def get_dataset():\n",
    "    dataset = OcrDataset('ocr_dataset/ocr')\n",
    "    # Flatten images into vectors.\n",
    "    dataset.data = dataset.data.reshape(dataset.data.shape[:2] + (-1,))\n",
    "    # One-hot encode targets.\n",
    "    target = np.zeros(dataset.target.shape + (26,))\n",
    "    for index, letter in np.ndenumerate(dataset.target):\n",
    "        if letter:\n",
    "            target[index][ord(letter) - ord('a')] = 1\n",
    "    dataset.target = target\n",
    "    # Shuffle order of examples.\n",
    "    order = np.random.permutation(len(dataset.data))\n",
    "    dataset.data = dataset.data[order]\n",
    "    dataset.target = dataset.target[order]\n",
    "    return dataset"
   ]
  },
  {
   "cell_type": "code",
   "execution_count": 9,
   "metadata": {
    "collapsed": true
   },
   "outputs": [],
   "source": [
    "import matplotlib.pyplot as plt\n",
    "import string\n",
    "\n",
    "def plot_word(x, y):\n",
    "    n_letters = x.shape[0]\n",
    "    plt.figure(1, figsize=(90, 10))\n",
    "\n",
    "    for i, (letter_img, one_hot_char) in enumerate(zip(x, y)):\n",
    "        c_ind = np.argmax(one_hot_char)\n",
    "        let = string.ascii_lowercase[c_ind] if any(one_hot_char) else '_'\n",
    "        plt.subplot(1, n_letters, i+1)\n",
    "        plt.title('letter: {}'.format(let), fontsize=60)\n",
    "        plt.imshow(letter_img.reshape(16, 8), cmap='gray_r')\n",
    "    plt.show()"
   ]
  },
  {
   "cell_type": "code",
   "execution_count": 10,
   "metadata": {
    "collapsed": true
   },
   "outputs": [],
   "source": [
    "def batch_gen(data, target, batch_size):\n",
    "    data_it = iter(data)\n",
    "    target_it = iter(target)\n",
    "    \n",
    "    data_batch, target_batch = list(islice(data_it, batch_size)) , list(islice(target_it, batch_size))\n",
    "    \n",
    "    while data_batch and target_batch:\n",
    "        yield np.array(data_batch), np.array(target_batch)\n",
    "        data_batch, target_batch = list(islice(data_it, batch_size)) , list(islice(target_it, batch_size))"
   ]
  },
  {
   "cell_type": "code",
   "execution_count": 11,
   "metadata": {
    "collapsed": true
   },
   "outputs": [],
   "source": [
    "dataset = get_dataset()"
   ]
  },
  {
   "cell_type": "code",
   "execution_count": 12,
   "metadata": {},
   "outputs": [
    {
     "data": {
      "image/png": "[encoded data removed]",
      "text/plain": [
       "<matplotlib.figure.Figure at 0x7efda3988e10>"
      ]
     },
     "metadata": {},
     "output_type": "display_data"
    }
   ],
   "source": [
    "x = dataset.data[1]\n",
    "y = dataset.target[1]\n",
    "plot_word(x, y)"
   ]
  },
  {
   "cell_type": "code",
   "execution_count": 13,
   "metadata": {
    "collapsed": true
   },
   "outputs": [],
   "source": [
    "# Split into training and test data.\n",
    "split = int(0.66 * len(dataset.data))\n",
    "\n",
    "# train_dataset = dataset[:split]\n",
    "# train_data, test_data = dataset.data[:split], dataset.data[split:]\n",
    "train_data, train_target = dataset.data[:split], dataset.target[:split]\n",
    "test_data, test_target = dataset.data[split:], dataset.target[split:]\n",
    "\n",
    "# Compute graph.\n",
    "_, params.length, params.image_size = train_data.shape\n",
    "params.num_classes = train_target.shape[2]\n",
    "\n",
    "# with tf.Graph().as_default():\n",
    "# with tf.Graph() as g:\n",
    "model = SequenceLabellingModel(params)"
   ]
  },
  {
   "cell_type": "code",
   "execution_count": 14,
   "metadata": {},
   "outputs": [
    {
     "name": "stdout",
     "output_type": "stream",
     "text": [
      "1: 98.6%\n",
      "2: 93.3%\n",
      "3: 93.9%\n",
      "4: 98.0%\n",
      "5: 96.9%\n",
      "6: 98.0%\n",
      "7: 96.7%\n",
      "8: 93.1%\n",
      "9: 96.7%\n",
      "10: 98.3%\n",
      "11: 82.4%\n",
      "12: 97.9%\n",
      "13: 91.7%\n",
      "14: 95.4%\n",
      "15: 92.0%\n",
      "16: 94.4%\n",
      "17: 87.4%\n",
      "18: 95.7%\n",
      "19: 87.3%\n",
      "20: 96.4%\n",
      "21: 89.1%\n",
      "22: 86.1%\n",
      "23: 91.7%\n",
      "24: 92.2%\n",
      "25: 92.1%\n",
      "26: 89.3%\n",
      "27: 86.8%\n",
      "28: 79.9%\n",
      "29: 94.7%\n",
      "30: 91.8%\n",
      "31: 82.4%\n",
      "32: 81.5%\n",
      "33: 90.4%\n",
      "34: 83.7%\n",
      "35: 93.0%\n",
      "36: 88.7%\n",
      "37: 92.6%\n",
      "38: 94.7%\n",
      "39: 92.6%\n",
      "40: 85.0%\n",
      "41: 94.8%\n",
      "42: 97.6%\n",
      "43: 78.1%\n",
      "44: 85.0%\n",
      "45: 95.9%\n",
      "46: 90.4%\n",
      "47: 91.7%\n",
      "48: 90.1%\n",
      "49: 81.6%\n",
      "50: 87.1%\n",
      "51: 98.6%\n",
      "52: 92.7%\n",
      "53: 90.4%\n",
      "54: 89.4%\n",
      "55: 92.7%\n",
      "56: 83.7%\n",
      "57: 88.2%\n",
      "58: 92.5%\n",
      "59: 80.7%\n",
      "60: 93.7%\n",
      "61: 91.5%\n",
      "62: 91.1%\n",
      "63: 95.7%\n",
      "64: 87.3%\n",
      "65: 81.6%\n",
      "66: 82.5%\n",
      "67: 88.2%\n",
      "68: 91.5%\n",
      "69: 95.8%\n",
      "70: 85.8%\n",
      "71: 92.7%\n",
      "72: 82.4%\n",
      "73: 86.9%\n",
      "74: 90.9%\n",
      "75: 85.7%\n",
      "76: 90.6%\n",
      "77: 82.0%\n",
      "78: 77.7%\n",
      "79: 71.6%\n",
      "80: 90.9%\n",
      "81: 79.9%\n",
      "82: 80.2%\n",
      "83: 77.1%\n",
      "84: 86.0%\n",
      "85: 78.9%\n",
      "86: 82.2%\n",
      "87: 78.0%\n",
      "88: 80.6%\n",
      "89: 87.0%\n",
      "90: 85.0%\n",
      "91: 87.8%\n",
      "92: 86.4%\n",
      "93: 87.0%\n",
      "94: 81.4%\n",
      "95: 79.9%\n",
      "96: 74.2%\n",
      "97: 74.8%\n",
      "98: 79.4%\n",
      "99: 79.6%\n",
      "100: 81.7%\n",
      "101: 77.8%\n",
      "102: 83.3%\n",
      "103: 72.9%\n",
      "104: 77.6%\n",
      "105: 82.3%\n",
      "106: 73.8%\n",
      "107: 85.3%\n",
      "108: 76.2%\n",
      "109: 81.3%\n",
      "110: 90.7%\n",
      "111: 76.9%\n",
      "112: 78.4%\n",
      "113: 86.2%\n",
      "114: 72.6%\n",
      "115: 83.7%\n",
      "116: 76.8%\n",
      "117: 81.3%\n",
      "118: 84.4%\n",
      "119: 81.2%\n",
      "120: 81.8%\n",
      "121: 74.2%\n",
      "122: 77.4%\n",
      "123: 67.8%\n",
      "124: 65.0%\n",
      "125: 80.1%\n",
      "126: 71.2%\n",
      "127: 70.1%\n",
      "128: 75.2%\n",
      "129: 69.9%\n",
      "130: 75.7%\n",
      "131: 76.6%\n",
      "132: 80.7%\n",
      "133: 75.3%\n",
      "134: 71.2%\n",
      "135: 64.0%\n",
      "136: 72.6%\n",
      "137: 69.4%\n",
      "138: 65.5%\n",
      "139: 66.4%\n",
      "140: 55.2%\n",
      "141: 71.3%\n",
      "142: 64.5%\n",
      "143: 73.6%\n",
      "144: 58.8%\n",
      "145: 69.2%\n",
      "146: 69.8%\n",
      "147: 66.4%\n",
      "148: 68.0%\n",
      "149: 55.5%\n",
      "150: 60.3%\n",
      "151: 63.5%\n",
      "152: 62.1%\n",
      "153: 58.9%\n",
      "154: 56.2%\n",
      "155: 49.5%\n",
      "156: 59.4%\n",
      "157: 56.1%\n",
      "158: 49.0%\n",
      "159: 67.6%\n",
      "160: 56.2%\n",
      "161: 57.6%\n",
      "162: 37.3%\n",
      "163: 35.8%\n",
      "164: 37.9%\n",
      "165: 64.5%\n",
      "166: 59.5%\n",
      "167: 49.9%\n",
      "168: 43.5%\n",
      "169: 41.4%\n",
      "170: 43.8%\n",
      "171: 43.7%\n",
      "172: 47.9%\n",
      "173: 52.9%\n",
      "174: 41.4%\n",
      "175: 51.6%\n",
      "176: 51.5%\n",
      "177: 43.4%\n",
      "178: 52.1%\n",
      "179: 38.3%\n",
      "180: 39.7%\n",
      "181: 38.4%\n",
      "182: 46.5%\n",
      "183: 43.0%\n",
      "184: 44.6%\n",
      "185: 34.7%\n",
      "186: 30.4%\n",
      "187: 25.9%\n",
      "188: 32.0%\n",
      "189: 41.1%\n",
      "190: 41.2%\n",
      "191: 50.4%\n",
      "192: 32.9%\n",
      "193: 31.5%\n",
      "194: 26.8%\n",
      "195: 35.4%\n",
      "196: 35.0%\n",
      "197: 26.9%\n",
      "198: 33.1%\n",
      "199: 42.3%\n",
      "200: 33.1%\n",
      "201: 30.2%\n",
      "202: 39.2%\n",
      "203: 30.4%\n",
      "204: 16.3%\n",
      "205: 31.1%\n",
      "206: 26.5%\n",
      "207: 29.0%\n",
      "208: 38.1%\n",
      "209: 29.1%\n",
      "210: 24.3%\n",
      "211: 34.7%\n",
      "212: 39.2%\n",
      "213: 27.2%\n",
      "214: 39.4%\n",
      "215: 33.0%\n",
      "216: 33.4%\n",
      "217: 32.4%\n",
      "218: 34.0%\n",
      "219: 31.6%\n",
      "220: 23.9%\n",
      "221: 35.8%\n",
      "222: 27.6%\n",
      "223: 32.5%\n",
      "224: 31.9%\n",
      "225: 26.9%\n",
      "226: 21.9%\n",
      "227: 24.6%\n",
      "228: 27.1%\n",
      "229: 38.0%\n",
      "230: 30.3%\n",
      "231: 23.2%\n",
      "232: 28.0%\n",
      "233: 20.1%\n",
      "234: 36.1%\n",
      "235: 24.1%\n",
      "236: 25.3%\n",
      "237: 17.8%\n",
      "238: 29.3%\n",
      "239: 21.8%\n",
      "240: 27.6%\n",
      "241: 22.5%\n",
      "242: 31.9%\n",
      "243: 27.7%\n",
      "244: 14.6%\n",
      "245: 23.7%\n",
      "246: 20.8%\n",
      "247: 20.3%\n",
      "248: 22.1%\n",
      "249: 32.0%\n",
      "250: 26.1%\n",
      "251: 32.3%\n",
      "252: 19.4%\n",
      "253: 23.3%\n",
      "254: 26.3%\n",
      "255: 38.7%\n",
      "256: 26.0%\n",
      "257: 31.9%\n",
      "258: 23.3%\n",
      "259: 15.9%\n",
      "260: 25.7%\n",
      "261: 16.0%\n",
      "262: 22.9%\n",
      "263: 26.5%\n",
      "264: 25.5%\n",
      "265: 13.5%\n",
      "266: 23.7%\n",
      "267: 20.2%\n",
      "268: 24.0%\n",
      "269: 20.0%\n",
      "270: 23.8%\n",
      "271: 25.0%\n",
      "272: 28.8%\n",
      "273: 27.5%\n",
      "274: 20.0%\n",
      "275: 15.0%\n",
      "276: 29.2%\n",
      "277: 25.3%\n",
      "278: 12.0%\n",
      "279: 19.5%\n",
      "280: 23.3%\n",
      "281: 33.9%\n",
      "282: 28.5%\n",
      "283: 25.4%\n",
      "284: 20.7%\n",
      "285: 34.3%\n",
      "286: 40.8%\n",
      "287: 19.4%\n",
      "288: 9.1%\n",
      "289: 13.0%\n",
      "290: 24.5%\n",
      "291: 20.0%\n",
      "292: 24.8%\n",
      "293: 26.1%\n",
      "294: 23.3%\n",
      "295: 29.2%\n",
      "296: 16.7%\n",
      "297: 13.2%\n",
      "298: 18.4%\n",
      "299: 16.0%\n",
      "300: 22.8%\n",
      "301: 37.5%\n",
      "302: 37.5%\n",
      "303: 26.5%\n",
      "304: 27.7%\n",
      "305: 20.9%\n",
      "306: 12.7%\n",
      "307: 14.6%\n",
      "308: 24.1%\n",
      "309: 17.2%\n",
      "310: 20.7%\n",
      "311: 18.0%\n",
      "312: 19.6%\n",
      "313: 19.1%\n",
      "314: 28.9%\n",
      "315: 19.0%\n",
      "316: 31.0%\n",
      "317: 14.7%\n",
      "318: 12.9%\n",
      "319: 10.6%\n",
      "320: 12.4%\n",
      "321: 14.6%\n",
      "322: 26.8%\n",
      "323: 16.8%\n",
      "324: 17.8%\n",
      "325: 24.6%\n",
      "326: 25.6%\n",
      "327: 7.0%\n",
      "328: 28.1%\n",
      "329: 12.9%\n",
      "330: 18.8%\n",
      "331: 17.9%\n",
      "332: 8.2%\n",
      "333: 18.1%\n",
      "334: 12.6%\n",
      "335: 14.3%\n",
      "336: 15.4%\n",
      "337: 22.5%\n",
      "338: 15.9%\n",
      "339: 19.0%\n",
      "340: 9.4%\n",
      "341: 16.5%\n",
      "342: 29.8%\n",
      "343: 8.8%\n",
      "344: 8.2%\n",
      "345: 16.8%\n",
      "346: 23.3%\n",
      "347: 29.4%\n",
      "348: 11.7%\n",
      "349: 25.0%\n",
      "350: 22.8%\n",
      "351: 24.5%\n",
      "352: 27.3%\n",
      "353: 15.6%\n",
      "354: 11.2%\n",
      "355: 14.8%\n",
      "356: 12.6%\n",
      "357: 36.4%\n",
      "358: 27.4%\n",
      "359: 18.0%\n",
      "360: 12.2%\n",
      "361: 13.1%\n",
      "362: 16.8%\n",
      "363: 23.7%\n",
      "364: 10.3%\n",
      "365: 7.0%\n",
      "366: 14.6%\n",
      "367: 27.2%\n",
      "368: 12.9%\n",
      "369: 19.7%\n",
      "370: 16.1%\n",
      "371: 9.8%\n",
      "372: 3.4%\n",
      "373: 22.0%\n",
      "374: 19.8%\n",
      "375: 29.7%\n",
      "376: 20.5%\n",
      "377: 21.0%\n",
      "378: 12.6%\n",
      "379: 26.1%\n",
      "380: 10.6%\n",
      "381: 13.2%\n",
      "382: 20.3%\n",
      "383: 11.7%\n",
      "384: 25.2%\n",
      "385: 20.8%\n",
      "386: 21.3%\n",
      "387: 11.5%\n",
      "388: 18.0%\n",
      "389: 6.2%\n",
      "390: 12.7%\n",
      "391: 20.9%\n",
      "392: 10.4%\n",
      "393: 21.1%\n",
      "394: 17.8%\n",
      "395: 16.6%\n",
      "396: 8.3%\n",
      "397: 14.2%\n",
      "398: 13.9%\n",
      "399: 8.0%\n",
      "400: 12.6%\n",
      "401: 9.0%\n",
      "402: 16.9%\n",
      "403: 7.8%\n",
      "404: 16.4%\n",
      "405: 17.5%\n",
      "406: 17.3%\n",
      "407: 11.0%\n",
      "408: 16.6%\n",
      "409: 18.7%\n",
      "410: 34.1%\n",
      "411: 14.6%\n",
      "412: 4.0%\n",
      "413: 5.0%\n",
      "414: 17.3%\n",
      "415: 25.1%\n",
      "416: 21.1%\n",
      "417: 15.9%\n",
      "418: 16.0%\n",
      "419: 9.1%\n",
      "420: 18.7%\n",
      "421: 12.6%\n",
      "422: 10.3%\n",
      "423: 11.8%\n",
      "424: 14.0%\n",
      "425: 17.6%\n",
      "426: 17.2%\n",
      "427: 7.7%\n",
      "428: 17.8%\n",
      "429: 22.0%\n",
      "430: 13.4%\n",
      "431: 18.2%\n",
      "432: 28.8%\n",
      "433: 12.5%\n",
      "434: 16.9%\n",
      "435: 10.6%\n",
      "436: 18.9%\n",
      "437: 15.4%\n",
      "438: 16.8%\n",
      "439: 6.9%\n",
      "440: 17.5%\n",
      "441: 18.4%\n",
      "442: 10.2%\n",
      "443: 15.5%\n",
      "444: 24.3%\n",
      "445: 14.7%\n",
      "446: 21.8%\n",
      "447: 21.1%\n",
      "448: 15.2%\n",
      "449: 10.3%\n",
      "450: 23.3%\n",
      "451: 20.6%\n",
      "452: 18.4%\n",
      "453: 13.0%\n",
      "454: 17.9%\n"
     ]
    }
   ],
   "source": [
    "batches = batch_gen(train_data, train_target, batch_size=10)\n",
    "model.train(batches)"
   ]
  },
  {
   "cell_type": "code",
   "execution_count": 15,
   "metadata": {},
   "outputs": [
    {
     "data": {
      "text/plain": [
       "(2339, 14, 128)"
      ]
     },
     "execution_count": 15,
     "metadata": {},
     "output_type": "execute_result"
    }
   ],
   "source": [
    "# test_data.shape"
   ]
  },
  {
   "cell_type": "code",
   "execution_count": 26,
   "metadata": {},
   "outputs": [],
   "source": [
    "# with tf.Session() as sess:\n",
    "#     p = tf.placeholder(dtype=tf.int32, shape=test_data.shape)\n",
    "#     d = tf.reduce_max(p, axis=2)\n",
    "#     res = sess.run(d, feed_dict={p:test_data})"
   ]
  },
  {
   "cell_type": "code",
   "execution_count": 28,
   "metadata": {},
   "outputs": [
    {
     "data": {
      "text/plain": [
       "array([1, 1, 1, 1, 1, 1, 1, 1, 0, 0, 0, 0, 0, 0], dtype=int32)"
      ]
     },
     "execution_count": 28,
     "metadata": {},
     "output_type": "execute_result"
    }
   ],
   "source": [
    "# res[0]"
   ]
  },
  {
   "cell_type": "code",
   "execution_count": 16,
   "metadata": {
    "collapsed": true
   },
   "outputs": [],
   "source": [
    "predicted = model.predict(test_data)[0]"
   ]
  },
  {
   "cell_type": "code",
   "execution_count": 17,
   "metadata": {},
   "outputs": [
    {
     "data": {
      "text/plain": [
       "(2339, 14, 26)"
      ]
     },
     "execution_count": 17,
     "metadata": {},
     "output_type": "execute_result"
    }
   ],
   "source": [
    "predicted.shape"
   ]
  },
  {
   "cell_type": "code",
   "execution_count": 18,
   "metadata": {},
   "outputs": [
    {
     "data": {
      "text/plain": [
       "(2339, 14, 26)"
      ]
     },
     "execution_count": 18,
     "metadata": {},
     "output_type": "execute_result"
    }
   ],
   "source": [
    "test_target.shape"
   ]
  },
  {
   "cell_type": "code",
   "execution_count": 19,
   "metadata": {},
   "outputs": [
    {
     "data": {
      "image/png": "[encoded data removed]",
      "text/plain": [
       "<matplotlib.figure.Figure at 0x7efd8cabb320>"
      ]
     },
     "metadata": {},
     "output_type": "display_data"
    },
    {
     "data": {
      "image/png": "[encoded data removed]",
      "text/plain": [
       "<matplotlib.figure.Figure at 0x7efd8d62eb00>"
      ]
     },
     "metadata": {},
     "output_type": "display_data"
    },
    {
     "data": {
      "image/png": "[encoded data removed]",
      "text/plain": [
       "<matplotlib.figure.Figure at 0x7efd8dc8c588>"
      ]
     },
     "metadata": {},
     "output_type": "display_data"
    }
   ],
   "source": [
    "for i, (td, pred) in enumerate(zip(test_data, predicted)):\n",
    "    plot_word(td, pred)\n",
    "    if i >= 2:\n",
    "        break"
   ]
  },
  {
   "cell_type": "code",
   "execution_count": 20,
   "metadata": {
    "collapsed": true
   },
   "outputs": [],
   "source": [
    "def targ_to_labels(targ):\n",
    "    bin_targ = np.argmax(targ, axis=2)\n",
    "    return bin_targ"
   ]
  },
  {
   "cell_type": "code",
   "execution_count": 21,
   "metadata": {
    "collapsed": true
   },
   "outputs": [],
   "source": [
    "test_target_lab = targ_to_labels(test_target)\n",
    "predicted_lab = targ_to_labels(predicted)"
   ]
  },
  {
   "cell_type": "code",
   "execution_count": 22,
   "metadata": {
    "collapsed": true
   },
   "outputs": [],
   "source": [
    "from sklearn.metrics import classification_report, accuracy_score"
   ]
  },
  {
   "cell_type": "code",
   "execution_count": 23,
   "metadata": {},
   "outputs": [
    {
     "data": {
      "text/plain": [
       "0.46503389726989558"
      ]
     },
     "execution_count": 23,
     "metadata": {},
     "output_type": "execute_result"
    }
   ],
   "source": [
    "accuracy_score(test_target_lab.reshape(-1), predicted_lab.reshape(-1))"
   ]
  },
  {
   "cell_type": "code",
   "execution_count": 24,
   "metadata": {},
   "outputs": [
    {
     "name": "stdout",
     "output_type": "stream",
     "text": [
      "             precision    recall  f1-score   support\n",
      "\n",
      "          0       0.06      0.86      0.12      1219\n",
      "          1       0.88      0.90      0.89       449\n",
      "          2       0.79      0.92      0.85       631\n",
      "          3       0.95      0.68      0.79       667\n",
      "          4       0.88      0.81      0.85      1860\n",
      "          5       0.71      0.87      0.78       259\n",
      "          6       0.90      0.88      0.89       838\n",
      "          7       0.86      0.86      0.86       288\n",
      "          8       0.95      0.09      0.16     16805\n",
      "          9       0.63      0.95      0.76        39\n",
      "         10       0.71      0.86      0.78       258\n",
      "         11       0.89      0.91      0.90      1014\n",
      "         12       0.87      0.94      0.90       537\n",
      "         13       0.90      0.88      0.89      1747\n",
      "         14       0.94      0.91      0.92      1376\n",
      "         15       0.88      0.86      0.87       483\n",
      "         16       0.58      0.91      0.71        78\n",
      "         17       0.86      0.76      0.81      1015\n",
      "         18       0.87      0.90      0.89       473\n",
      "         19       0.74      0.88      0.81       606\n",
      "         20       0.84      0.91      0.88       820\n",
      "         21       0.79      0.74      0.76       244\n",
      "         22       0.90      0.81      0.85       179\n",
      "         23       0.84      0.64      0.73       180\n",
      "         24       0.84      0.95      0.89       364\n",
      "         25       0.82      0.90      0.86       317\n",
      "\n",
      "avg / total       0.88      0.47      0.48     32746\n",
      "\n"
     ]
    }
   ],
   "source": [
    "print(classification_report(predicted_lab.reshape(-1), test_target_lab.reshape(-1)))"
   ]
  },
  {
   "cell_type": "markdown",
   "metadata": {},
   "source": [
    "### Bidirectional\tRNNs"
   ]
  },
  {
   "cell_type": "markdown",
   "metadata": {},
   "source": [
    "#### How can we implement bidirectional RNNs in TensorFlow?"
   ]
  },
  {
   "cell_type": "markdown",
   "metadata": {},
   "source": [
    " There is actually an\n",
    "implementation available with  `tf.model.rnn.bidirectional_rnn` ."
   ]
  },
  {
   "cell_type": "code",
   "execution_count": null,
   "metadata": {
    "collapsed": true
   },
   "outputs": [],
   "source": [
    "@lazy_property\n",
    "def prediction(self):\n",
    "    output = self._bidirectional_rnn(self.data, self.length)\n",
    "    num_classes = int(self.target.get_shape()[2])\n",
    "    prediction = self._shared_softmax(output, num_classes)\n",
    "    return prediction"
   ]
  },
  {
   "cell_type": "markdown",
   "metadata": {},
   "source": [
    "Here\tsomes\tthe\tinteresting\tpart,\tthe\timplementation\tof\tbidirectional\tRNNs.\tAs\tyou\tcan\n",
    "see,\twe\thave\tcreate\ttwo\tRNNs\tusing\t `tf.nn.dynamic_rnn` .\tThe\tforward\tnetwork\tshould\tlook\n",
    "familiar\twhile\tthe\tbackward\tnetwork\tis\tnew.\n",
    "Instead\tof\tjust\tfeeding\tin\tthe\tdata\tinto\tthe\tbackward\tRNN,\twe\tfirst\treverse\tthesequences.\tThis\tis\teasier\tthan\timplementing\ta\tnew\tRNN\toperation\tthat\twould\tgo\n",
    "backwards.\tTensorFlow\thelps\tus\twith\twith\tthe\t `tf.reverse_sequence()` \tfunctions\tthat\ttakes\tcare\n",
    "of\tonly\treversing\tthe\tused\tframes\tup\tto\t `sequence_length` ."
   ]
  },
  {
   "cell_type": "code",
   "execution_count": null,
   "metadata": {
    "collapsed": true
   },
   "outputs": [],
   "source": [
    "def _bidirectional_rnn(self, data, length):\n",
    "    length_64 = tf.cast(length, tf.int64)\n",
    "    forward, _ = tf.nn.dynamic_rnn(\n",
    "        cell=self.params.rnn_cell(self.params.rnn_hidden),\n",
    "        inputs=data,\n",
    "        dtype=tf.float32,\n",
    "        sequence_length=length,\n",
    "        scope='rnn-forward')\n",
    "    backward, _ = tf.nn.dynamic_rnn(\n",
    "        cell=self.params.rnn_cell(self.params.rnn_hidden),\n",
    "        inputs=tf.reverse_sequence(data, length_64, seq_dim=1),\n",
    "        dtype=tf.float32,\n",
    "        sequence_length=self.length,\n",
    "        scope='rnn-backward')\n",
    "    backward = tf.reverse_sequence(backward, length_64, seq_dim=1)\n",
    "    output = tf.concat(2, [forward, backward])\n",
    "    return output"
   ]
  },
  {
   "cell_type": "markdown",
   "metadata": {},
   "source": [
    "The\t `_shared_softmax()` \tfunction\tabove\tis\teasy;\twe\talready\thad\tthe\tcode\tin\tthe\tprediction\n",
    "property\tbefore.\tThe\tdifference\tis\tthat\tthis\ttime,\twe\tinfer\tthe\tinput\tsize\tfrom\tthe\t data \ttensor\n",
    "that\tgets\tpassed\tinto\tthe\tfunction.\tThis\tway,\twe\tcan\treuse\tthe\tfunction\tfor\tother\n",
    "architectures\tif\tneeded.\tThen\twe\tuse\tthe\tsame\tflattening\ttrick\tto\tshare\tthe\tsame\tsoftmax\n",
    "layer\taccross\tall\ttime\tsteps."
   ]
  },
  {
   "cell_type": "code",
   "execution_count": 31,
   "metadata": {
    "collapsed": true
   },
   "outputs": [],
   "source": [
    "def _shared_softmax(self, data, out_size):\n",
    "    max_length = int(data.get_shape()[1])\n",
    "    in_size = int(data.get_shape()[2])\n",
    "    weight = tf.Variable(tf.truncated_normal(\n",
    "        [in_size, out_size], stddev=0.01))\n",
    "    bias = tf.Variable(tf.constant(0.1, shape=[out_size]))\n",
    "    # Flatten to apply same weights to all time steps.\n",
    "    flat = tf.reshape(data, [-1, in_size])\n",
    "    output = tf.nn.softmax(tf.matmul(flat, weight) + bias)\n",
    "    output = tf.reshape(output, [-1, max_length, out_size])\n",
    "    return output"
   ]
  }
 ],
 "metadata": {
  "kernelspec": {
   "display_name": "Python 3",
   "language": "python",
   "name": "python3"
  },
  "language_info": {
   "codemirror_mode": {
    "name": "ipython",
    "version": 3
   },
   "file_extension": ".py",
   "mimetype": "text/x-python",
   "name": "python",
   "nbconvert_exporter": "python",
   "pygments_lexer": "ipython3",
   "version": "3.6.2"
  }
 },
 "nbformat": 4,
 "nbformat_minor": 2
}
